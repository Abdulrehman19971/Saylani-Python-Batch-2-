{
 "cells": [
  {
   "cell_type": "code",
   "execution_count": 30,
   "metadata": {},
   "outputs": [
    {
     "name": "stdout",
     "output_type": "stream",
     "text": [
      "first_name  ==>  Shahdab\n",
      "last_name  ==>  Khatri\n",
      "age  ==>  24\n",
      "city  ==>  Karachi\n",
      "\n",
      "Qualification added  ==>  intermediate\n",
      "{'first_name': 'Shahdab', 'last_name': 'Khatri', 'age': 24, 'city': 'Karachi', 'qualification': 'intermediate'}\n",
      "\n",
      "Qualification updted ==>  undergraduate\n",
      "{'first_name': 'Shahdab', 'last_name': 'Khatri', 'age': 24, 'city': 'Karachi', 'qualification': 'undergraduate'}\n",
      "\n",
      "now qualification is not any more\n",
      "{'first_name': 'Shahdab', 'last_name': 'Khatri', 'age': 24, 'city': 'Karachi'}\n"
     ]
    }
   ],
   "source": [
    "\"\"\"Question1:\n",
    "Use a dictionary to store information about a person you know. Store their first name, last name, age,\n",
    "and the city in which they live. You should have keys such as first_name, last_name, age, and city. Print\n",
    "each piece of information stored in your dictionary. Add a new key value pair about qualification then\n",
    "update the qualification value to high academic level then delete it.\"\"\"\n",
    "\n",
    "myself={\"first_name\":\"Shahdab\",\"last_name\":\"Khatri\",\"age\":24,\"city\":\"Karachi\"}\n",
    "for k,v in myself.items():\n",
    "    print(k ,\" ==> \", v)\n",
    "print()\n",
    "# qualification added\n",
    "myself[\"qualification\"]=\"intermediate\"\n",
    "print(\"Qualification added  ==> \",myself[\"qualification\"])\n",
    "print(myself)\n",
    "print()\n",
    "# qualification updated\n",
    "myself.update(qualification=\"undergraduate\")\n",
    "print(\"Qualification updted ==> \",myself[\"qualification\"])\n",
    "print(myself)\n",
    "print()\n",
    "# now deleting qualification\n",
    "del myself[\"qualification\"]\n",
    "print(\"now qualification is not any more\")\n",
    "print(myself)"
   ]
  },
  {
   "cell_type": "code",
   "execution_count": 46,
   "metadata": {},
   "outputs": [
    {
     "name": "stdout",
     "output_type": "stream",
     "text": [
      "Karachi\n",
      "\t country ==> pakistan\n",
      "\t population ==> 14.91 million (2017)\n",
      "\t fact ==> It is the Sixth largest city in the world by city population.\n",
      "Bangkok\n",
      "\t country ==> \n",
      "\t population ==> 20.05 million.\n",
      "\t fact ==> Bangkok has the largest solid gold Buddha statue\n",
      "Ddubai\n",
      "\t country ==> UAE\n",
      "\t population ==> 3.137 million\n",
      "\t fact ==> Dubai is famous for Burj Khalifa\n"
     ]
    }
   ],
   "source": [
    "\"\"\"Question2:\n",
    "Make a dictionary called cities. Use the names of three cities as keys in your dictionary. Create a\n",
    "dictionary of information about each city and include the country that the city is in, its approximate\n",
    "population, and one fact about that city. The keys for each city’s dictionary should be something like\n",
    "country, population, and fact. Print the name of each city and all of the information you have stored\n",
    "about it.\"\"\"\n",
    "\n",
    "cities={\"Karachi\":{\"country\":\"pakistan\",\"population\":\"14.91 million (2017)\",\"fact\":\"It is the Sixth largest city in the world by city population.\"},\n",
    "       \"Bangkok\":{\"country\":\"\",\"population\":\"20.05 million.\",\"fact\":\"Bangkok has the largest solid gold Buddha statue\"},\n",
    "        \"Ddubai\":{\"country\":\"UAE\",\"population\":\"3.137 million\",\"fact\":\"Dubai is famous for Burj Khalifa\"}\n",
    "       }\n",
    "for city,info in cities.items():\n",
    "    print(city)\n",
    "    for k,v in info.items():\n",
    "        print(\"\\t\",k,\"==>\",v)"
   ]
  },
  {
   "cell_type": "code",
   "execution_count": 84,
   "metadata": {},
   "outputs": [
    {
     "name": "stdout",
     "output_type": "stream",
     "text": [
      "Enter the number of persons you are ? 4\n",
      "Enter 1 person age2\n",
      "Enter 2 person age3\n",
      "Enter 3 person age12\n",
      "Enter 4 person age24\n",
      "\n",
      "1 person with age of 2 ticket price is ==>\t0 $\n",
      "2 person with age of 3 ticket price is ==>\t10 $\n",
      "3 person with age of 12 ticket price is ==>\t10 $\n",
      "4 person with age of 24 ticket price is ==>\t15 $\n",
      "------------------------------------------------------------\n",
      "Total is =================================>\t 35 $\n"
     ]
    }
   ],
   "source": [
    "\"\"\"Question3:\n",
    "A movie theater charges different ticket prices depending on a person’s age. If a person is under the age\n",
    "of 3, the ticket is free; if they are between 3 and 12, the ticket is $10; and if they are over age 12, the\n",
    "ticket is $15. Write a loop in which you ask users their age, and then tell them the cost of their movie\n",
    "ticket.\"\"\"\n",
    "\n",
    "numbers=int(input(\"Enter the number of persons you are ? \"))\n",
    "ages=[]\n",
    "prices=[]\n",
    "for i in range(numbers):\n",
    "    ages.append(int(input(\"Enter {} person age\".format(i+1))))\n",
    "    if ages[i] <3 :\n",
    "        prices.append(0)\n",
    "    elif ages[i]>=3 and ages[i] <=12:\n",
    "        prices.append(10)\n",
    "    elif ages[i] > 12:\n",
    "        prices.append(15)\n",
    "total=sum(prices) \n",
    "print()\n",
    "for i in range(len(ages)):\n",
    "    print(\"{} person with age of {} ticket price is ==>\\t{} $\".format(i+1,ages[i],prices[i]))\n",
    "print(\"------------------------------------------------------------\")\n",
    "print(\"Total is =================================>\\t\",total,\"$\")"
   ]
  },
  {
   "cell_type": "code",
   "execution_count": 87,
   "metadata": {},
   "outputs": [
    {
     "name": "stdout",
     "output_type": "stream",
     "text": [
      "ONe of my favorite book is  Alice in Wonderland\n"
     ]
    }
   ],
   "source": [
    "\"\"\"Question4:\n",
    "Write a function called favorite_book() that accepts one parameter, title. The function should print a\n",
    "message, such as One of my favorite books is Alice in Wonderland. Call the function, making sure to\n",
    "include a book title as an argument in the function call.\"\"\"\n",
    "\n",
    "def favorite_book(title):\n",
    "    print(\"ONe of my favorite book is \",title)\n",
    "    \n",
    "favorite_book(\"Alice in Wonderland\")"
   ]
  },
  {
   "cell_type": "code",
   "execution_count": 158,
   "metadata": {},
   "outputs": [
    {
     "name": "stdout",
     "output_type": "stream",
     "text": [
      "********** GAME RULES *********\n",
      "In this game you will got 3 chances to win the games\n",
      "Enter the guess between 1 to 30\n",
      "If you entered out of range then you will not miss the chances\n",
      "\n",
      "Enter your guess  :  15\n",
      "You entered less number\n",
      "2 chances left\n",
      "\n",
      "Enter your guess  :  25\n",
      "You entered greater number\n",
      "1 chances left\n",
      "\n",
      "Enter your guess  :  20\n",
      "You entered less number\n",
      "0 chances left\n",
      "\n",
      "You lost the game\n"
     ]
    }
   ],
   "source": [
    "\"\"\"Question5:\n",
    "Guess the number game\n",
    "Write a program which randomly generate a number between 1 to 30 and ask the user in input field to\n",
    "guess the correct number. Give three chances to user guess the number and also give hint to user if\n",
    "hidden number is greater or smaller than the number he given to input field.\"\"\"\n",
    "\n",
    "\n",
    "import random \n",
    "\n",
    "print(\"********** GAME RULES *********\")\n",
    "print(\"In this game you will got 3 chances to win the games\")\n",
    "print(\"Enter the guess between 1 to 30\")\n",
    "print(\"If you entered out of range then you will not miss the chances\")\n",
    "print()\n",
    "chances=3\n",
    "n=random.randint(1,30)\n",
    "while chances !=0 :\n",
    "    guess=int(input(\"Enter your guess  :  \"))\n",
    "    chances-=1\n",
    "    if guess == n:\n",
    "        print(\"you win\")\n",
    "        break\n",
    "        \n",
    "    elif guess < 1 or guess >30:\n",
    "        print(\"Enter number between 1 to 30\")\n",
    "        print(\"You got one more chance \")\n",
    "        chances+=1\n",
    "    elif guess > n:\n",
    "        print(\"You entered greater number\")\n",
    "        \n",
    "    elif guess < n:\n",
    "        print(\"You entered less number\")\n",
    "    \n",
    "    print(\"{} chances left\".format(chances))\n",
    "    print()\n",
    "    \n",
    "else:\n",
    "    print(\"You lost the game\")"
   ]
  }
 ],
 "metadata": {
  "kernelspec": {
   "display_name": "Python 3",
   "language": "python",
   "name": "python3"
  },
  "language_info": {
   "codemirror_mode": {
    "name": "ipython",
    "version": 3
   },
   "file_extension": ".py",
   "mimetype": "text/x-python",
   "name": "python",
   "nbconvert_exporter": "python",
   "pygments_lexer": "ipython3",
   "version": "3.7.1"
  }
 },
 "nbformat": 4,
 "nbformat_minor": 2
}
