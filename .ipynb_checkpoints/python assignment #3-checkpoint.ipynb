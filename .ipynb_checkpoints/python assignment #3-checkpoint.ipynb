{
 "cells": [
  {
   "cell_type": "code",
   "execution_count": 1,
   "metadata": {},
   "outputs": [
    {
     "name": "stdout",
     "output_type": "stream",
     "text": [
      "####### Calculator #######\n",
      "Enter first Number : 50\n",
      "\n",
      "Enter a valid operator\n",
      "+ for addition\n",
      "- for substraction\n",
      "* for multiplication\n",
      "/ for division\n",
      "** for exponent\n",
      "**\n",
      "Enter second number: 2\n",
      "\n",
      "After Exponent Result is  2500.0\n"
     ]
    }
   ],
   "source": [
    "\n",
    "\"\"\" Task # 1 ==>  Make a calculator using Python with addition , subtraction , multiplication ,\n",
    "division and power.\"\"\"\n",
    "\n",
    "print(\"####### Calculator #######\")\n",
    "firstnumber=float(input(\"Enter first Number : \"))\n",
    "print()\n",
    "print(\"Enter a valid operator\\n+ for addition\\n- for substraction\\n* for multiplication\\n/ for division\\n** for exponent\")\n",
    "operator=input()\n",
    "secondnumber=float(input(\"Enter second number: \"))\n",
    "print()\n",
    "result=None\n",
    "if operator == \"+\":\n",
    "    result = firstnumber + secondnumber\n",
    "    print(\"After Addition Result is \",result)\n",
    "elif operator == \"-\":\n",
    "    result = firstnumber - secondnumber\n",
    "    print(\"After Substraction Result is \",result)\n",
    "elif operator == \"*\":\n",
    "    result = firstnumber * secondnumber\n",
    "    print(\"After Multiplication Result is \",result)\n",
    "elif operator == \"/\":\n",
    "    result = firstnumber / secondnumber\n",
    "    print(\"After Division Result is \",result)\n",
    "elif operator == \"**\":\n",
    "    result = firstnumber ** secondnumber\n",
    "    print(\"After Exponent Result is \",result)\n",
    "else:\n",
    "    print(\"Enter valid operator\")\n"
   ]
  },
  {
   "cell_type": "code",
   "execution_count": 2,
   "metadata": {},
   "outputs": [
    {
     "name": "stdout",
     "output_type": "stream",
     "text": [
      "1 \t is numeric.\n",
      "Shahdab \t is not numeric.\n",
      "1.0 \t is numeric.\n",
      "2 \t is numeric.\n",
      "55.34 \t is numeric.\n",
      "None \t is not numeric.\n",
      "True \t is not numeric.\n",
      "True \t is not numeric.\n",
      "420 \t is numeric.\n",
      "786 \t is numeric.\n"
     ]
    }
   ],
   "source": [
    "\n",
    "\"\"\"Task # 2 ==>  Write a program to check if there is any numeric value in list using for loop\"\"\"\n",
    "\n",
    "mylist = [1, \"Shahdab\" , 1.0 , \"2\" , 55.34 , None , \"True\", True , 420 , \"786\"]\n",
    "\n",
    "for i in mylist:\n",
    "    if type(i) == int or type(i) == float or type(i)==str and i.isnumeric():\n",
    "        print(i , \"\\t is numeric.\")\n",
    "    else:\n",
    "        print(i , \"\\t is not numeric.\")\n",
    "    "
   ]
  },
  {
   "cell_type": "code",
   "execution_count": 3,
   "metadata": {},
   "outputs": [
    {
     "name": "stdout",
     "output_type": "stream",
     "text": [
      "Before adding keys : \t {}\n",
      "Afer adding keys : \t {'first_name': 'Shahdab', 'last_name': 'Khatri', 'Phone': '0314-2080160'}\n"
     ]
    }
   ],
   "source": [
    "\n",
    "\"\"\" Task # 3 ==>  Write a Python script to add a key to a dictionary\"\"\"\n",
    "mydict= dict()\n",
    "print(\"Before adding keys : \\t\",mydict)\n",
    "mydict[\"first_name\"]=\"Shahdab\"\n",
    "mydict[\"last_name\"] =\"Khatri\"\n",
    "mydict[\"Phone\"]  = \"0314-2080160\"\n",
    "print(\"Afer adding keys : \\t\",mydict)\n"
   ]
  },
  {
   "cell_type": "code",
   "execution_count": 4,
   "metadata": {},
   "outputs": [
    {
     "name": "stdout",
     "output_type": "stream",
     "text": [
      "{'name': 'shadhab', 'age': 23, 'DOB_day': '2', 'certifications': 2, 'DOB_month': 12, 'Income': None, 'Honesty': True}\n",
      "dict_values(['shadhab', 23, '2', 2, 12, None, True])\n",
      "\n",
      "After summation of dict all values \n",
      "Result is:  39.0\n"
     ]
    }
   ],
   "source": [
    "\n",
    "\"\"\"Task # 4 Write a Python program to sum all the numeric items in a dictionary\"\"\"\n",
    "mydict1={\"name\":\"shadhab\",\"age\": 23, \"DOB_day\": \"2\" ,\"certifications\": 2, \"DOB_month\": 12,\"Income\":None, \"Honesty\":True}\n",
    "values= mydict1.values()\n",
    "print(mydict1)\n",
    "print(values)\n",
    "sum1=0\n",
    "for i in values:\n",
    "    if type(i) == int or type(i) == float or type(i)==str and i.isnumeric():\n",
    "        sum1 = sum1 + float(i)\n",
    "print(\"\\nAfter summation of dict all values \")\n",
    "print(\"Result is: \",sum1)\n",
    "    "
   ]
  },
  {
   "cell_type": "code",
   "execution_count": 5,
   "metadata": {},
   "outputs": [
    {
     "name": "stdout",
     "output_type": "stream",
     "text": [
      "list ==>  [2, 55, 'shahdab', None, 4532.22, '34', '00', 'shahdab']\n",
      "\n",
      "There is only one repeated value shahdab\n"
     ]
    }
   ],
   "source": [
    "\n",
    "\"\"\" Task # 5 ==>  Write a program to identify duplicate values from list\"\"\"\n",
    "\n",
    "mylist2= [2,55,\"shahdab\", None, 4532.22, \"34\",\"00\",\"shahdab\"]\n",
    "print(\"list ==> \",mylist2)\n",
    "print()\n",
    "newlist=[]\n",
    "repeated_values=[]\n",
    "for i in mylist2:\n",
    "    if i not in newlist:\n",
    "        newlist.append(i)\n",
    "    else:\n",
    "        repeated_values.append(i)\n",
    "repeated_values =tuple(repeated_values)\n",
    "if len(repeated_values) == 0:\n",
    "    print(\"There is no repeated values\")\n",
    "elif len(repeated_values)== 1:\n",
    "    print(\"There is only one repeated value\", repeated_values[0])\n",
    "else:\n",
    "    print(\"Repeated values are \",repeated_values)\n",
    "    "
   ]
  },
  {
   "cell_type": "code",
   "execution_count": 6,
   "metadata": {},
   "outputs": [
    {
     "name": "stdout",
     "output_type": "stream",
     "text": [
      "{'name': 'shahdab', 'age': '23', 'DOB_day': '2', 'certifications': 2, 'DOB_month': 12, 'Income': None}\n",
      "Enter a key to check weather it already exist or not :  age\n",
      "\n",
      "~~~~~~~~~~~~~~~~Your entered key is already exist~~~~~~~~~~~~~\n"
     ]
    }
   ],
   "source": [
    "\n",
    "\"\"\"Task # 6 ==> Write a Python script to check if a given key already exists in a dictionary\"\"\"\n",
    "\n",
    "dict2= {\"name\":\"shahdab\", \"age\":\"23\", \"DOB_day\": \"2\" ,\"certifications\": 2, \"DOB_month\": 12,\"Income\":None}\n",
    "print(dict2)\n",
    "new_key= input(\"Enter a key to check weather it already exist or not :  \")\n",
    "print()\n",
    "if new_key in dict2:\n",
    "    print(\"~~~~~~~~~~~~~~~~Your entered key is already exist~~~~~~~~~~~~~\")\n",
    "else:\n",
    "    print(\"~~~~~~~~~~~~~~~Your entered key do not exist~~~~~~~~~~~~~~\")\n",
    "    "
   ]
  },
  {
   "cell_type": "code",
   "execution_count": null,
   "metadata": {},
   "outputs": [],
   "source": []
  }
 ],
 "metadata": {
  "kernelspec": {
   "display_name": "Python 3",
   "language": "python",
   "name": "python3"
  },
  "language_info": {
   "codemirror_mode": {
    "name": "ipython",
    "version": 3
   },
   "file_extension": ".py",
   "mimetype": "text/x-python",
   "name": "python",
   "nbconvert_exporter": "python",
   "pygments_lexer": "ipython3",
   "version": "3.7.1"
  }
 },
 "nbformat": 4,
 "nbformat_minor": 2
}
