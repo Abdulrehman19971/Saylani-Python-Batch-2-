{
 "cells": [
  {
   "cell_type": "code",
   "execution_count": 5,
   "metadata": {},
   "outputs": [
    {
     "name": "stdout",
     "output_type": "stream",
     "text": [
      "Task 1 ==> Write a program which takes 5 inputs from user for different subject’s marks, total it and generate mark sheet using grades ?\n",
      "\n",
      "---------------Marksheet-------------\n",
      "Please Enter the Marks of all Subject\n",
      "\n",
      "Enter your Physics Marks         76\n",
      "Enter your Chemsitry Marks       87\n",
      "Enter your Biology Marks Marks   67\n",
      "Enter your English Marks         86\n",
      "Enter your Urdu Marks            75\n",
      "\n",
      "Your Percentage is              78.2%\n",
      "Your Grade is                    A\n"
     ]
    }
   ],
   "source": [
    "print(\"Task 1 ==> Write a program which takes 5 inputs from user for different subject’s \\\n",
    "marks, total it and generate mark sheet using grades ?\\n\")\n",
    "\n",
    "print(\"---------------Marksheet-------------\")\n",
    "print(\"Please Enter the Marks of all Subject\")\n",
    "print()\n",
    "Physics=float(input(\"Enter your Physics Marks         \"))\n",
    "Chemistry=float(input(\"Enter your Chemsitry Marks       \"))\n",
    "Biology=float(input(\"Enter your Biology Marks Marks   \"))\n",
    "English=float(input(\"Enter your English Marks         \"))\n",
    "Urdu=float(input(\"Enter your Urdu Marks            \"))\n",
    "total=Physics + Chemistry + Biology + English + Urdu\n",
    "percentage=total/500*100\n",
    "print()\n",
    "print(\"Your Percentage is              {}%\".format(percentage))\n",
    "grade=None\n",
    "if percentage >= 80:\n",
    "    grade=\"A-One\"\n",
    "elif percentage >= 70:\n",
    "    grade= \"A\"\n",
    "elif percentage >= 60:\n",
    "    grade = \"B\"\n",
    "elif percentage >= 50:\n",
    "    grade = \"C\"\n",
    "else:\n",
    "    grade = \"F\"\n",
    "print(\"Your Grade is                    {}\".format(grade))\n",
    "            "
   ]
  },
  {
   "cell_type": "code",
   "execution_count": 6,
   "metadata": {},
   "outputs": [
    {
     "name": "stdout",
     "output_type": "stream",
     "text": [
      "Task 2 ==> Write a program which take input from user and identify that the given number is even or odd?\n",
      "\n",
      "Enter an integer number56\n",
      "Number is even\n"
     ]
    }
   ],
   "source": [
    "print(\"Task 2 ==> Write a program which take input from user and identify that the given number is even or odd?\\n\")\n",
    "\n",
    "number=int(input(\"Enter an integer number\"))\n",
    "if number % 2== 0:\n",
    "    print(\"Number is even\")\n",
    "else:\n",
    "    print(\"Number is odd\")\n",
    "    "
   ]
  },
  {
   "cell_type": "code",
   "execution_count": 7,
   "metadata": {},
   "outputs": [
    {
     "name": "stdout",
     "output_type": "stream",
     "text": [
      "Task 3 ==> Write a program which print the length of the list?\n",
      "\n",
      "The len of your list is 11\n"
     ]
    }
   ],
   "source": [
    "print(\"Task 3 ==> Write a program which print the length of the list?\\n\")\n",
    "\n",
    "list1=[1, 1, 2, 3, 5, 8, 13, 21, 34, 55, 89]\n",
    "print(\"The len of your list is {}\".format(len(list1)))\n"
   ]
  },
  {
   "cell_type": "code",
   "execution_count": 8,
   "metadata": {},
   "outputs": [
    {
     "name": "stdout",
     "output_type": "stream",
     "text": [
      "Task 4 ==> Write a Python program to sum all the numeric items in a list?\n",
      "\n",
      "The sum of Numeric list is  232\n"
     ]
    }
   ],
   "source": [
    "print(\"Task 4 ==> Write a Python program to sum all the numeric items in a list?\\n\")\n",
    "\n",
    "sum=0\n",
    "for i in list1:\n",
    "    sum+=i\n",
    "print(\"The sum of Numeric list is \",sum)\n"
   ]
  },
  {
   "cell_type": "code",
   "execution_count": 9,
   "metadata": {},
   "outputs": [
    {
     "name": "stdout",
     "output_type": "stream",
     "text": [
      "Task 5 ==> Write a Python program to get the largest number from a numeric list.\n",
      "\n",
      "The Largest Number of the list is  89\n"
     ]
    }
   ],
   "source": [
    "print(\"Task 5 ==> Write a Python program to get the largest number from a numeric list.\\n\")\n",
    "\n",
    "largest = list1[0]\n",
    "for  i in list1:\n",
    "    if i > largest :\n",
    "        largest = i\n",
    "print(\"The Largest Number of the list is \",largest)\n"
   ]
  },
  {
   "cell_type": "code",
   "execution_count": 10,
   "metadata": {},
   "outputs": [
    {
     "name": "stdout",
     "output_type": "stream",
     "text": [
      "Task 6 ==> Take a list, say for example this one: a = [1, 1, 2, 3, 5, 8, 13, 21, 34, 55, 89] and write a program that prints out all the elements of the list that are less than 5.\n",
      "\n",
      "1  is less than 5\n",
      "1  is less than 5\n",
      "2  is less than 5\n",
      "3  is less than 5\n"
     ]
    }
   ],
   "source": [
    "print(\"Task 6 ==> Take a list, say for example this one: \\\n",
    "a = [1, 1, 2, 3, 5, 8, 13, 21, 34, 55, 89] \\\n",
    "and write a program that prints out all the elements of the list that are \\\n",
    "less than 5.\\n\")\n",
    "\n",
    "a=[1, 1, 2, 3, 5, 8, 13, 21, 34, 55, 89]\n",
    "for i in a:\n",
    "    if i < 5:\n",
    "        print(i,\" is less than 5\")\n",
    "        "
   ]
  },
  {
   "cell_type": "code",
   "execution_count": null,
   "metadata": {},
   "outputs": [],
   "source": []
  }
 ],
 "metadata": {
  "kernelspec": {
   "display_name": "Python 3",
   "language": "python",
   "name": "python3"
  },
  "language_info": {
   "codemirror_mode": {
    "name": "ipython",
    "version": 3
   },
   "file_extension": ".py",
   "mimetype": "text/x-python",
   "name": "python",
   "nbconvert_exporter": "python",
   "pygments_lexer": "ipython3",
   "version": "3.7.1"
  }
 },
 "nbformat": 4,
 "nbformat_minor": 2
}
